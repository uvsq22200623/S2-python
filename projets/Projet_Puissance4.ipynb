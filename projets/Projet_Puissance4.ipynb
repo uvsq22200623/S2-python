{
 "cells": [
  {
   "cell_type": "markdown",
   "metadata": {},
   "source": [
    "Etape 1 : Création de la grille"
   ]
  },
  {
   "cell_type": "code",
   "execution_count": 4,
   "metadata": {},
   "outputs": [
    {
     "name": "stdout",
     "output_type": "stream",
     "text": [
      "('Mathieu', 'Julie')\n"
     ]
    }
   ],
   "source": [
    "import random\n",
    "import tkinter as tk\n",
    "\n",
    "racine = tk.Tk() # Création de la fenêtre racine\n",
    "racine.title(\"JEU PUISSANCE 4\") # ajoute un titre\n",
    "label = tk.Label(racine, text=\"Prêt à vous affronter au Puissance 4 ?\", font=(\"helvetica\", \"20\")) # création du widget\n",
    "label.grid(column=3, row=0) # positionnement du widget\n",
    "\n",
    "nom_joueur1 = input(\"Quel est ton nom joueur 1 ?\") # identification du joueur 1\n",
    "nom_joueur2 = input(\"Quel est ton nom joueur 2 ?\") # identification du joueur 2\n",
    "liste_joueurs = (nom_joueur1, nom_joueur2)\n",
    "print(liste_joueurs)\n",
    "\n",
    "\n",
    "\n",
    "\n",
    "\n",
    "\n",
    "\n",
    "\n",
    "\n",
    "racine = tk.Tk() # Création de la fenêtre racine\n",
    "racine.mainloop() # Lancement de la boucle principale"
   ]
  },
  {
   "cell_type": "code",
   "execution_count": null,
   "metadata": {},
   "outputs": [],
   "source": []
  }
 ],
 "metadata": {
  "kernelspec": {
   "display_name": "Python 3.9.13 ('base')",
   "language": "python",
   "name": "python3"
  },
  "language_info": {
   "codemirror_mode": {
    "name": "ipython",
    "version": 3
   },
   "file_extension": ".py",
   "mimetype": "text/x-python",
   "name": "python",
   "nbconvert_exporter": "python",
   "pygments_lexer": "ipython3",
   "version": "3.9.13"
  },
  "orig_nbformat": 4,
  "vscode": {
   "interpreter": {
    "hash": "7d6a2f910f3120818214ce2f32b4e8173aa196704add3801970501477204c05e"
   }
  }
 },
 "nbformat": 4,
 "nbformat_minor": 2
}
